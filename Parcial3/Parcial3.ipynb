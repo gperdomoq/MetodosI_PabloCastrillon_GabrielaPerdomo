{
  "cells": [
    {
      "cell_type": "code",
      "execution_count": 34,
      "metadata": {
        "id": "HDtqpLBm3sGP"
      },
      "outputs": [],
      "source": [
        "import numpy as np"
      ]
    },
    {
      "cell_type": "markdown",
      "metadata": {},
      "source": [
        "a) Matriz de Coeficientes y Vector Independiente"
      ]
    },
    {
      "cell_type": "code",
      "execution_count": 36,
      "metadata": {
        "colab": {
          "base_uri": "https://localhost:8080/"
        },
        "id": "rKo9Jf30-nMo",
        "outputId": "62f8619d-1840-492e-e233-efdeaa8883e5"
      },
      "outputs": [
        {
          "name": "stdout",
          "output_type": "stream",
          "text": [
            "[[ 2.e-01  1.e-01  1.e+00  1.e+00  0.e+00]\n",
            " [ 1.e-01  4.e+00 -1.e+00  1.e+00 -1.e+00]\n",
            " [ 1.e+00 -1.e+00  6.e+01  0.e+00 -2.e+00]\n",
            " [ 1.e+00  1.e+00  0.e+00  8.e+00  4.e+00]\n",
            " [ 0.e+00 -1.e+00 -2.e+00  4.e+00  7.e+02]]\n"
          ]
        }
      ],
      "source": [
        "matriz = np.array([[0.2, 0.1, 1, 1, 0], [0.1, 4, -1, 1, -1], [1, -1, 60, 0, -2], [1, 1, 0, 8, 4], [0, -1, -2, 4, 700]])\n",
        "print(matriz)"
      ]
    },
    {
      "cell_type": "code",
      "execution_count": 39,
      "metadata": {
        "colab": {
          "base_uri": "https://localhost:8080/"
        },
        "id": "U8_apnq7_kOy",
        "outputId": "6a9855d8-ba65-4da5-8105-8e79b855db76"
      },
      "outputs": [
        {
          "name": "stdout",
          "output_type": "stream",
          "text": [
            "[[1]\n",
            " [2]\n",
            " [3]\n",
            " [4]\n",
            " [5]]\n"
          ]
        }
      ],
      "source": [
        "v_ind = np.array([[1], [2], [3], [4], [5]])\n",
        "print(v_ind)"
      ]
    },
    {
      "cell_type": "markdown",
      "metadata": {},
      "source": [
        "b) Algoritmo de Descenso Conjugado"
      ]
    },
    {
      "cell_type": "code",
      "execution_count": 40,
      "metadata": {
        "id": "vZduAP_nIHc3"
      },
      "outputs": [],
      "source": [
        "def descenso_conjugado(A,b,x_k,epsilon=0.01):\n",
        "  r_k=(A @ x_k)-b\n",
        "  p_k=-r_k\n",
        "  k=0\n",
        "  while np.linalg.norm(r_k)>epsilon:\n",
        "    alpha=-(((r_k.T) @ p_k))/(p_k.T @ (A@p_k))\n",
        "    x_k=x_k + (alpha * p_k)\n",
        "    r_k=(A @ x_k)-b\n",
        "    beta=(r_k.T @ (A @ p_k))/(p_k.T @ (A@p_k))\n",
        "    p_k=-r_k + (beta * p_k)\n",
        "    k+=1\n",
        "  return x_k,k"
      ]
    },
    {
      "cell_type": "markdown",
      "metadata": {},
      "source": [
        "c) Solución del Sistema e Iteraciones"
      ]
    },
    {
      "cell_type": "code",
      "execution_count": 41,
      "metadata": {
        "colab": {
          "base_uri": "https://localhost:8080/"
        },
        "id": "KGXVnIdLINcr",
        "outputId": "126f8c18-3c5a-46fb-ec7e-5cc968e2f986"
      },
      "outputs": [
        {
          "name": "stdout",
          "output_type": "stream",
          "text": [
            "(array([[ 7.85971308],\n",
            "       [ 0.42292641],\n",
            "       [-0.07359224],\n",
            "       [-0.54064302],\n",
            "       [ 0.01062611]]), 5)\n"
          ]
        }
      ],
      "source": [
        "x_0=np.array([[1], [1], [1], [1], [5]])\n",
        "print(descenso_conjugado(matriz,v_ind,x_0))"
      ]
    }
  ],
  "metadata": {
    "colab": {
      "provenance": []
    },
    "kernelspec": {
      "display_name": "Python 3",
      "name": "python3"
    },
    "language_info": {
      "name": "python"
    }
  },
  "nbformat": 4,
  "nbformat_minor": 0
}
