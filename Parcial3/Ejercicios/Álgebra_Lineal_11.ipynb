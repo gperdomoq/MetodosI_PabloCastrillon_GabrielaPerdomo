{
  "nbformat": 4,
  "nbformat_minor": 0,
  "metadata": {
    "colab": {
      "provenance": []
    },
    "kernelspec": {
      "name": "python3",
      "display_name": "Python 3"
    },
    "language_info": {
      "name": "python"
    }
  },
  "cells": [
    {
      "cell_type": "code",
      "execution_count": 1,
      "metadata": {
        "id": "MjpJxS9AJH50"
      },
      "outputs": [],
      "source": [
        "import numpy as np"
      ]
    },
    {
      "cell_type": "code",
      "source": [
        "H = np.array([[1,2,-1],[1,0,1],[4,-4,5]])\n",
        "inversa = np.linalg.inv(H)"
      ],
      "metadata": {
        "id": "Eqf4Qbf8Kh2R"
      },
      "execution_count": 2,
      "outputs": []
    },
    {
      "cell_type": "code",
      "source": [
        "np.linalg.eig(H)"
      ],
      "metadata": {
        "colab": {
          "base_uri": "https://localhost:8080/"
        },
        "id": "Ub3wHDtoKktk",
        "outputId": "9a03f1ed-cecb-4d22-ef59-a28a6479e617"
      },
      "execution_count": 3,
      "outputs": [
        {
          "output_type": "execute_result",
          "data": {
            "text/plain": [
              "(array([3., 2., 1.]),\n",
              " array([[-0.23570226,  0.43643578,  0.40824829],\n",
              "        [ 0.23570226, -0.21821789, -0.40824829],\n",
              "        [ 0.94280904, -0.87287156, -0.81649658]]))"
            ]
          },
          "metadata": {},
          "execution_count": 3
        }
      ]
    },
    {
      "cell_type": "code",
      "source": [
        "def ValorVector_prop(A, c=0, itmax=1000, tol=1e-14):\n",
        "    n = A.shape[0]\n",
        "\n",
        "    v0 = np.zeros(n)\n",
        "\n",
        "    v0[c] = 1.\n",
        "\n",
        "    lambda1 = 0.\n",
        "\n",
        "    for k in range(itmax):\n",
        "        v1 = A.dot(v0)\n",
        "        v1 = v1/np.linalg.norm(v1)\n",
        "\n",
        "        v2 = A.dot(v1)\n",
        "        v2 = v2/np.linalg.norm(v1)\n",
        "\n",
        "        lambda0 = lambda1\n",
        "        lambda1 = v2[0]/v1[0]\n",
        "\n",
        "        v0 = v2\n",
        "\n",
        "        if np.abs(lambda1 - lambda0) <= tol:\n",
        "            break\n",
        "    return lambda1, v1"
      ],
      "metadata": {
        "id": "m-X4Hv5KKkxz"
      },
      "execution_count": 4,
      "outputs": []
    },
    {
      "cell_type": "code",
      "source": [
        "valor, vector = ValorVector_prop(inversa, c=0)\n",
        "print(valor, vector)"
      ],
      "metadata": {
        "colab": {
          "base_uri": "https://localhost:8080/"
        },
        "id": "nbqkzjLNKk1L",
        "outputId": "af2db118-931f-4b6c-ba16-ca6ea42dc2e2"
      },
      "execution_count": 5,
      "outputs": [
        {
          "output_type": "stream",
          "name": "stdout",
          "text": [
            "0.9999999999999988 [ 0.40824829 -0.40824829 -0.81649658]\n"
          ]
        }
      ]
    }
  ]
}