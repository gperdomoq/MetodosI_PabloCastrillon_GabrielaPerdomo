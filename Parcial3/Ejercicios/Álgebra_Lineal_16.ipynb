{
  "nbformat": 4,
  "nbformat_minor": 0,
  "metadata": {
    "colab": {
      "provenance": []
    },
    "kernelspec": {
      "name": "python3",
      "display_name": "Python 3"
    },
    "language_info": {
      "name": "python"
    }
  },
  "cells": [
    {
      "cell_type": "code",
      "execution_count": 9,
      "metadata": {
        "id": "HDtqpLBm3sGP"
      },
      "outputs": [],
      "source": [
        "import numpy as np\n",
        "import sympy as sym\n",
        "from itertools import permutations"
      ]
    },
    {
      "cell_type": "code",
      "source": [
        "y_0 = np.array([[1,0,0,0], [0,1,0,0], [0,0,-1,0],[0,0,0,-1]])\n",
        "y_1 = np.array([[0,0,0,1], [0,0,1,0], [0,-1,0,0],[-1,0,0,0]])\n",
        "y_2 = np.array([[0,0,0,-1j], [0,0,1j,0], [0,1j,0,0],[-1j,0,0,0]])\n",
        "y_3 = np.array([[0,0,1,0], [0,0,0,-1], [-1,0,0,0],[0,1,0,0]])"
      ],
      "metadata": {
        "id": "lh7UjxCsiaFx"
      },
      "execution_count": 10,
      "outputs": []
    },
    {
      "cell_type": "code",
      "source": [
        "y=[y_0,y_1,y_2,y_3]\n",
        "print(y)"
      ],
      "metadata": {
        "colab": {
          "base_uri": "https://localhost:8080/"
        },
        "id": "Yl4X2_vgiiem",
        "outputId": "cdeb30b5-d942-49bc-9ad4-c1a009118540"
      },
      "execution_count": 18,
      "outputs": [
        {
          "output_type": "stream",
          "name": "stdout",
          "text": [
            "[array([[ 1,  0,  0,  0],\n",
            "       [ 0,  1,  0,  0],\n",
            "       [ 0,  0, -1,  0],\n",
            "       [ 0,  0,  0, -1]]), array([[ 0,  0,  0,  1],\n",
            "       [ 0,  0,  1,  0],\n",
            "       [ 0, -1,  0,  0],\n",
            "       [-1,  0,  0,  0]]), array([[ 0.+0.j,  0.+0.j,  0.+0.j, -0.-1.j],\n",
            "       [ 0.+0.j,  0.+0.j,  0.+1.j,  0.+0.j],\n",
            "       [ 0.+0.j,  0.+1.j,  0.+0.j,  0.+0.j],\n",
            "       [-0.-1.j,  0.+0.j,  0.+0.j,  0.+0.j]]), array([[ 0,  0,  1,  0],\n",
            "       [ 0,  0,  0, -1],\n",
            "       [-1,  0,  0,  0],\n",
            "       [ 0,  1,  0,  0]])]\n"
          ]
        }
      ]
    },
    {
      "cell_type": "code",
      "source": [
        "def conmutador(A, B):\n",
        "    return A @ B + B @ A"
      ],
      "metadata": {
        "id": "QSUZnygP_VtO"
      },
      "execution_count": 12,
      "outputs": []
    },
    {
      "cell_type": "code",
      "source": [
        "def metrica(A,B):\n",
        "  matriz=np.zeros((4,4))\n",
        "  matriz[0,0]=1\n",
        "  matriz[1,1]=-1\n",
        "  matriz[2,2]=-1\n",
        "  matriz[3,3]=-1\n",
        "  return matriz"
      ],
      "metadata": {
        "id": "tRO-MApeijxD"
      },
      "execution_count": 14,
      "outputs": []
    },
    {
      "cell_type": "code",
      "source": [
        "per = np.array([1, 2, 3,4])\n",
        "perm = np.array([np.array(x) for x in permutations(per, 2)])"
      ],
      "metadata": {
        "id": "KfFYx-0tltH5"
      },
      "execution_count": 15,
      "outputs": []
    },
    {
      "cell_type": "code",
      "source": [
        "zeros = np.zeros((4,4))"
      ],
      "metadata": {
        "id": "O5kwAZVflvbg"
      },
      "execution_count": 16,
      "outputs": []
    },
    {
      "cell_type": "markdown",
      "source": [
        "Verificación"
      ],
      "metadata": {
        "id": "Kzk_jxZIlyLw"
      }
    },
    {
      "cell_type": "code",
      "source": [
        "for p in perm:\n",
        "    i, j = p\n",
        "    if not ((conmutador(y[i-1], y[j-1]) -2*metrica(y[i-1],y[j-1]) *np.identity(4)) == zeros).all:\n",
        "        print(\"Error\")\n",
        "        break\n",
        "    else:\n",
        "        print(\"OK\")"
      ],
      "metadata": {
        "colab": {
          "base_uri": "https://localhost:8080/"
        },
        "id": "YE9qLL4rlxPi",
        "outputId": "81b2f9a7-dba6-4374-96bf-e1e09f6593fa"
      },
      "execution_count": 17,
      "outputs": [
        {
          "output_type": "stream",
          "name": "stdout",
          "text": [
            "OK\n",
            "OK\n",
            "OK\n",
            "OK\n",
            "OK\n",
            "OK\n",
            "OK\n",
            "OK\n",
            "OK\n",
            "OK\n",
            "OK\n",
            "OK\n"
          ]
        }
      ]
    }
  ]
}