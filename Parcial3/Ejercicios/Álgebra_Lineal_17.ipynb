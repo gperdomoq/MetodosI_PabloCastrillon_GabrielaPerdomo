{
  "nbformat": 4,
  "nbformat_minor": 0,
  "metadata": {
    "colab": {
      "provenance": []
    },
    "kernelspec": {
      "name": "python3",
      "display_name": "Python 3"
    },
    "language_info": {
      "name": "python"
    }
  },
  "cells": [
    {
      "cell_type": "code",
      "execution_count": 8,
      "metadata": {
        "id": "3YBOcgZbnhff"
      },
      "outputs": [],
      "source": [
        "import numpy as np\n",
        "import sympy as sp\n",
        "import matplotlib.pyplot as plt\n",
        "import warnings\n",
        "warnings.filterwarnings('ignore')\n",
        "sp.init_printing(use_latex=True)"
      ]
    },
    {
      "cell_type": "markdown",
      "source": [
        "a)"
      ],
      "metadata": {
        "id": "mU92xwIgqrAV"
      }
    },
    {
      "cell_type": "code",
      "source": [
        "x, y = sp.symbols('x y')"
      ],
      "metadata": {
        "id": "GClu7pcApoIJ"
      },
      "execution_count": 2,
      "outputs": []
    },
    {
      "cell_type": "markdown",
      "source": [
        "b)"
      ],
      "metadata": {
        "id": "riEumqGrquCV"
      }
    },
    {
      "cell_type": "code",
      "source": [
        "z = x + sp.I*y"
      ],
      "metadata": {
        "id": "Nre0Vam-poY3"
      },
      "execution_count": 3,
      "outputs": []
    },
    {
      "cell_type": "markdown",
      "source": [
        "c)"
      ],
      "metadata": {
        "id": "NsupNvhEqzCd"
      }
    },
    {
      "cell_type": "code",
      "source": [
        "f = z**3 - 1"
      ],
      "metadata": {
        "id": "B07ml8amqz3C"
      },
      "execution_count": 4,
      "outputs": []
    },
    {
      "cell_type": "markdown",
      "source": [
        "d)"
      ],
      "metadata": {
        "id": "Oygdgitxq7IR"
      }
    },
    {
      "cell_type": "code",
      "source": [
        "F = [sp.re(f), sp.im(f)]"
      ],
      "metadata": {
        "id": "aznrSJeeq5dz"
      },
      "execution_count": 5,
      "outputs": []
    },
    {
      "cell_type": "markdown",
      "source": [
        "e)"
      ],
      "metadata": {
        "id": "ftGMzh7CtAzn"
      }
    },
    {
      "cell_type": "code",
      "source": [
        "def jacobiano(F):\n",
        "    df_dx = sp.diff(f, x)\n",
        "    df_dy = sp.diff(f, y)\n",
        "    J = sp.Matrix([[sp.re(df_dx), sp.re(df_dy)], [sp.im(df_dx), sp.im(df_dy)]])\n",
        "    return J\n",
        "\n",
        "J = jacobiano(F)\n",
        "J"
      ],
      "metadata": {
        "colab": {
          "base_uri": "https://localhost:8080/",
          "height": 62
        },
        "id": "y85LBWMwsCo9",
        "outputId": "e9140f3e-b842-4624-a7e1-a2fad1bbdc14"
      },
      "execution_count": 6,
      "outputs": [
        {
          "output_type": "execute_result",
          "data": {
            "text/plain": [
              "⎡                 2                    2                                      \n",
              "⎢3⋅(re(x) - im(y))  - 3⋅(re(y) + im(x))     -6⋅(re(x) - im(y))⋅(re(y) + im(x))\n",
              "⎢                                                                             \n",
              "⎢                                                          2                  \n",
              "⎣   6⋅(re(x) - im(y))⋅(re(y) + im(x))     3⋅(re(x) - im(y))  - 3⋅(re(y) + im(x\n",
              "\n",
              "   ⎤\n",
              "   ⎥\n",
              "   ⎥\n",
              "  2⎥\n",
              ")) ⎦"
            ],
            "text/latex": "$\\displaystyle \\left[\\begin{matrix}3 \\left(\\operatorname{re}{\\left(x\\right)} - \\operatorname{im}{\\left(y\\right)}\\right)^{2} - 3 \\left(\\operatorname{re}{\\left(y\\right)} + \\operatorname{im}{\\left(x\\right)}\\right)^{2} & - 6 \\left(\\operatorname{re}{\\left(x\\right)} - \\operatorname{im}{\\left(y\\right)}\\right) \\left(\\operatorname{re}{\\left(y\\right)} + \\operatorname{im}{\\left(x\\right)}\\right)\\\\6 \\left(\\operatorname{re}{\\left(x\\right)} - \\operatorname{im}{\\left(y\\right)}\\right) \\left(\\operatorname{re}{\\left(y\\right)} + \\operatorname{im}{\\left(x\\right)}\\right) & 3 \\left(\\operatorname{re}{\\left(x\\right)} - \\operatorname{im}{\\left(y\\right)}\\right)^{2} - 3 \\left(\\operatorname{re}{\\left(y\\right)} + \\operatorname{im}{\\left(x\\right)}\\right)^{2}\\end{matrix}\\right]$"
          },
          "metadata": {},
          "execution_count": 6
        }
      ]
    },
    {
      "cell_type": "markdown",
      "source": [
        "f)"
      ],
      "metadata": {
        "id": "dMCmD0Est1_H"
      }
    },
    {
      "cell_type": "code",
      "source": [
        "Fn = sp.lambdify([x,y],F,'numpy')\n",
        "Fn"
      ],
      "metadata": {
        "colab": {
          "base_uri": "https://localhost:8080/"
        },
        "id": "frZaqPZ5t3HF",
        "outputId": "23be907b-492a-4cc9-e1ec-d93d8371d1f3"
      },
      "execution_count": 7,
      "outputs": [
        {
          "output_type": "execute_result",
          "data": {
            "text/plain": [
              "<function _lambdifygenerated(x, y)>"
            ]
          },
          "metadata": {},
          "execution_count": 7
        }
      ]
    },
    {
      "cell_type": "markdown",
      "source": [
        "g)"
      ],
      "metadata": {
        "id": "_WMTH8WE8Sch"
      }
    },
    {
      "cell_type": "code",
      "source": [],
      "metadata": {
        "id": "U-AyniF18T6T"
      },
      "execution_count": null,
      "outputs": []
    }
  ]
}