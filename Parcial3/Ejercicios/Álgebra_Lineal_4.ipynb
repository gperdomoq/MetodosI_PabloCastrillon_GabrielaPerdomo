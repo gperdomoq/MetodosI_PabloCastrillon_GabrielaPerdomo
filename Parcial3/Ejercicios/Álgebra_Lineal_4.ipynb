{
  "nbformat": 4,
  "nbformat_minor": 0,
  "metadata": {
    "colab": {
      "provenance": []
    },
    "kernelspec": {
      "name": "python3",
      "display_name": "Python 3"
    },
    "language_info": {
      "name": "python"
    }
  },
  "cells": [
    {
      "cell_type": "code",
      "execution_count": 1,
      "metadata": {
        "id": "MjpJxS9AJH50"
      },
      "outputs": [],
      "source": [
        "import numpy as np"
      ]
    },
    {
      "cell_type": "markdown",
      "source": [
        "Multiplicación de Dos Matrices"
      ],
      "metadata": {
        "id": "6mkeTIQXMT_7"
      }
    },
    {
      "cell_type": "code",
      "source": [
        "a = np.array([[1, 0, 0], [5, 1, 0], [-2, 3, 1]])\n",
        "\n",
        "b = np.array([[4, -2, 1], [0, 3, 7], [0, 0, 2]])"
      ],
      "metadata": {
        "id": "38DiH6fHLJ3o"
      },
      "execution_count": 2,
      "outputs": []
    },
    {
      "cell_type": "code",
      "source": [
        "print(a)"
      ],
      "metadata": {
        "colab": {
          "base_uri": "https://localhost:8080/"
        },
        "id": "0BawSf47LyEo",
        "outputId": "50b67037-7376-47a9-b6bb-a977e2169a98"
      },
      "execution_count": 3,
      "outputs": [
        {
          "output_type": "stream",
          "name": "stdout",
          "text": [
            "[[ 1  0  0]\n",
            " [ 5  1  0]\n",
            " [-2  3  1]]\n"
          ]
        }
      ]
    },
    {
      "cell_type": "code",
      "source": [
        "print(b)"
      ],
      "metadata": {
        "colab": {
          "base_uri": "https://localhost:8080/"
        },
        "id": "MCjEH98_L_0n",
        "outputId": "7753827b-ba93-462f-b37c-ef18d414ca45"
      },
      "execution_count": 4,
      "outputs": [
        {
          "output_type": "stream",
          "name": "stdout",
          "text": [
            "[[ 4 -2  1]\n",
            " [ 0  3  7]\n",
            " [ 0  0  2]]\n"
          ]
        }
      ]
    },
    {
      "cell_type": "code",
      "source": [
        "def Mul_Matrices(a, b):\n",
        "    if a.shape[1] != b.shape[0]:\n",
        "        return \"Las matrices no pueden ser multiplicadas\"\n",
        "    else:\n",
        "        c = np.zeros((a.shape[0], b.shape[1]))\n",
        "        for i in range(a.shape[0]):\n",
        "            for j in range(b.shape[1]):\n",
        "                for k in range(a.shape[1]):\n",
        "                    c[i, j] += a[i, k] * b[k, j]\n",
        "\n",
        "        return c"
      ],
      "metadata": {
        "id": "aFmgJ1pILKCw"
      },
      "execution_count": 5,
      "outputs": []
    },
    {
      "cell_type": "code",
      "source": [
        "print(Mul_Matrices(a, b))"
      ],
      "metadata": {
        "colab": {
          "base_uri": "https://localhost:8080/"
        },
        "id": "N5HX7nnBLU3f",
        "outputId": "2ff89e96-7299-419a-d330-f5df8fda9d9b"
      },
      "execution_count": 6,
      "outputs": [
        {
          "output_type": "stream",
          "name": "stdout",
          "text": [
            "[[ 4. -2.  1.]\n",
            " [20. -7. 12.]\n",
            " [-8. 13. 21.]]\n"
          ]
        }
      ]
    }
  ]
}