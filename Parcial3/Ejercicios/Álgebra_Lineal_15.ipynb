{
  "nbformat": 4,
  "nbformat_minor": 0,
  "metadata": {
    "colab": {
      "provenance": []
    },
    "kernelspec": {
      "name": "python3",
      "display_name": "Python 3"
    },
    "language_info": {
      "name": "python"
    }
  },
  "cells": [
    {
      "cell_type": "code",
      "execution_count": 5,
      "metadata": {
        "id": "HDtqpLBm3sGP"
      },
      "outputs": [],
      "source": [
        "import numpy as np\n",
        "from itertools import permutations"
      ]
    },
    {
      "cell_type": "code",
      "source": [
        "Sx = np.array([[0, 1], [1, 0]])\n",
        "Sy = np.array([[0, -1j], [1j, 0]])\n",
        "Sz = np.array([[1, 0], [0, -1]])\n",
        "\n",
        "S = [Sx, Sy, Sz]\n",
        "S"
      ],
      "metadata": {
        "colab": {
          "base_uri": "https://localhost:8080/"
        },
        "id": "i_A4aqy33uTq",
        "outputId": "98460913-8917-403c-ad6b-1b32967609ab"
      },
      "execution_count": 6,
      "outputs": [
        {
          "output_type": "execute_result",
          "data": {
            "text/plain": [
              "[array([[0, 1],\n",
              "        [1, 0]]),\n",
              " array([[ 0.+0.j, -0.-1.j],\n",
              "        [ 0.+1.j,  0.+0.j]]),\n",
              " array([[ 1,  0],\n",
              "        [ 0, -1]])]"
            ]
          },
          "metadata": {},
          "execution_count": 6
        }
      ]
    },
    {
      "cell_type": "code",
      "source": [
        "def conmutador(A, B):\n",
        "    return A @ B - B @ A"
      ],
      "metadata": {
        "id": "QSUZnygP_VtO"
      },
      "execution_count": 2,
      "outputs": []
    },
    {
      "cell_type": "code",
      "source": [
        "def levicivita(i, j, k):\n",
        "    if i == j or j == k or k == i:\n",
        "        res = 0\n",
        "    if i == 1 and j == 2 and k == 3:\n",
        "        res = 1\n",
        "    if i == 2 and j == 3 and k == 1:\n",
        "        res = 1\n",
        "    if i == 3 and j == 1 and k == 2:\n",
        "        res = 1\n",
        "    if i == 3 and j == 2 and k == 1:\n",
        "        res = -1\n",
        "    if i == 2 and j == 1 and k == 3:\n",
        "        res = -1\n",
        "    if i == 1 and j == 3 and k == 2:\n",
        "        res = -1\n",
        "\n",
        "    return res"
      ],
      "metadata": {
        "id": "GjJgK70Bey79"
      },
      "execution_count": 1,
      "outputs": []
    },
    {
      "cell_type": "code",
      "source": [
        "per = np.array([1, 2, 3])\n",
        "perm = np.array([np.array(x) for x in permutations(per, 3)])\n",
        "\n",
        "zeros = np.zeros((2, 2), dtype=np.complex_)"
      ],
      "metadata": {
        "id": "FWmLRMz5fWly"
      },
      "execution_count": 7,
      "outputs": []
    },
    {
      "cell_type": "markdown",
      "source": [
        "Verificación"
      ],
      "metadata": {
        "id": "j6IQ9ph9f5pE"
      }
    },
    {
      "cell_type": "code",
      "source": [
        "for p in perm:\n",
        "    i, j, k = p\n",
        "    if not ((conmutador(S[i - 1], S[j - 1]) - (levicivita(i, j, k) * S[k - 1]*2j))\n",
        "            == zeros).all:\n",
        "        print(\"Error\")\n",
        "        break\n",
        "    else:\n",
        "        print(\"OK\")"
      ],
      "metadata": {
        "colab": {
          "base_uri": "https://localhost:8080/"
        },
        "id": "G95Ga_a3fc4c",
        "outputId": "aa35f96f-78ee-48b1-a3fc-06a55cb08474"
      },
      "execution_count": 8,
      "outputs": [
        {
          "output_type": "stream",
          "name": "stdout",
          "text": [
            "OK\n",
            "OK\n",
            "OK\n",
            "OK\n",
            "OK\n",
            "OK\n"
          ]
        }
      ]
    }
  ]
}