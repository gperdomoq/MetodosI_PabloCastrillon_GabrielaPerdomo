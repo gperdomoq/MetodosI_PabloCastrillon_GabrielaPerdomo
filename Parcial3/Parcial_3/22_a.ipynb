{
  "nbformat": 4,
  "nbformat_minor": 0,
  "metadata": {
    "colab": {
      "provenance": []
    },
    "kernelspec": {
      "name": "python3",
      "display_name": "Python 3"
    },
    "language_info": {
      "name": "python"
    }
  },
  "cells": [
    {
      "cell_type": "code",
      "source": [
        "import numpy as np"
      ],
      "metadata": {
        "id": "HutSpI4BPKD-"
      },
      "execution_count": 8,
      "outputs": []
    },
    {
      "cell_type": "code",
      "source": [
        "x=np.linspace(-2.2,1.0,50)\n",
        "h=x[1]-x[0]"
      ],
      "metadata": {
        "id": "hlAo0d4XPh6K"
      },
      "execution_count": 9,
      "outputs": []
    },
    {
      "cell_type": "code",
      "source": [
        "def DerivadaCentral(f,x,h=1e-6):\n",
        "    return (f(x+h) - f(x-h))/(2*h)"
      ],
      "metadata": {
        "id": "kU5UAA0LPiFV"
      },
      "execution_count": 10,
      "outputs": []
    },
    {
      "cell_type": "code",
      "source": [
        "def GetNewtonMethod(f,df,xn,itmax=100,precision=1e-8):\n",
        "\n",
        "    error = 1.\n",
        "    it = 0\n",
        "\n",
        "    while error > precision and it < itmax:\n",
        "\n",
        "        try:\n",
        "\n",
        "            xn1 = xn - f(xn)/df(f,xn)\n",
        "            # Criterio de parada\n",
        "            error = np.abs(f(xn)/df(f,xn))\n",
        "\n",
        "        except ZeroDivisionError:\n",
        "            print('Division por cero')\n",
        "\n",
        "        xn = xn1\n",
        "        it += 1\n",
        "\n",
        "   # print('Raiz',xn,it)\n",
        "\n",
        "    if it == itmax:\n",
        "        return False\n",
        "    else:\n",
        "        return xn"
      ],
      "metadata": {
        "id": "1dX3-Uv5PiIv"
      },
      "execution_count": 11,
      "outputs": []
    },
    {
      "cell_type": "code",
      "execution_count": 12,
      "metadata": {
        "id": "6-SZgD5vJONA"
      },
      "outputs": [],
      "source": [
        "def funcion(x):\n",
        "    y = ((np.sin(x))**6) + ((729/10000)*(np.sin(x))**2) - (729/10000)\n",
        "    return y"
      ]
    },
    {
      "cell_type": "code",
      "source": [
        "def GetAllRoots(x, tolerancia=6):\n",
        "\n",
        "    raices = np.array([])\n",
        "\n",
        "    for i in x:\n",
        "\n",
        "        raiz=GetNewtonMethod(funcion, DerivadaCentral,i)\n",
        "\n",
        "        if raiz != False:\n",
        "\n",
        "            croot = np.round(raiz, tolerancia)\n",
        "\n",
        "            if croot not in raices:\n",
        "                raices = np.append(raices,croot)\n",
        "\n",
        "    raices.sort()\n",
        "\n",
        "    return raices\n",
        "raices=GetAllRoots(x)"
      ],
      "metadata": {
        "id": "Z218Y97BPvpV"
      },
      "execution_count": 13,
      "outputs": []
    },
    {
      "cell_type": "code",
      "source": [
        "print(raices)"
      ],
      "metadata": {
        "colab": {
          "base_uri": "https://localhost:8080/"
        },
        "id": "YbtnRYuBP2U_",
        "outputId": "4fc52072-6645-4888-8998-89b16c000057"
      },
      "execution_count": 14,
      "outputs": [
        {
          "output_type": "stream",
          "name": "stdout",
          "text": [
            "[-15.064462 -11.92287   -5.639684  -2.498092  -0.643501   0.643501\n",
            "   2.498092   3.785094   5.639684  24.48924  286.528433]\n"
          ]
        }
      ]
    },
    {
      "cell_type": "markdown",
      "source": [
        "Las soluciones deben de ser menores a 2π, por lo tanto solo mostraremos las soluciones (raices) de los ángulos no repetidos."
      ],
      "metadata": {
        "id": "fZ-Q3IuJONqg"
      }
    },
    {
      "cell_type": "code",
      "source": [
        "print(raices[2], raices[3], raices[4], raices[5], raices[6], raices[8])"
      ],
      "metadata": {
        "colab": {
          "base_uri": "https://localhost:8080/"
        },
        "id": "1NxAaBfjMvJG",
        "outputId": "be42d5d5-92fd-4c2e-a2a0-be30bc77f362"
      },
      "execution_count": 7,
      "outputs": [
        {
          "output_type": "stream",
          "name": "stdout",
          "text": [
            "-5.639684 -2.498092 -0.643501 0.643501 2.498092 5.639684\n"
          ]
        }
      ]
    }
  ]
}