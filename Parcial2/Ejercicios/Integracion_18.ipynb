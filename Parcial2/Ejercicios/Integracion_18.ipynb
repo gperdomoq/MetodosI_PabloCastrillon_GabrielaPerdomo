{
  "nbformat": 4,
  "nbformat_minor": 0,
  "metadata": {
    "colab": {
      "provenance": []
    },
    "kernelspec": {
      "name": "python3",
      "display_name": "Python 3"
    },
    "language_info": {
      "name": "python"
    }
  },
  "cells": [
    {
      "cell_type": "code",
      "execution_count": 1,
      "metadata": {
        "id": "gL-gYjutv5Mm"
      },
      "outputs": [],
      "source": [
        "import numpy as np\n",
        "import sympy as sym\n",
        "from scipy import integrate"
      ]
    },
    {
      "cell_type": "markdown",
      "source": [
        "a)"
      ],
      "metadata": {
        "id": "r-fyHjPt85fn"
      }
    },
    {
      "cell_type": "code",
      "source": [
        "x=sym.Symbol('x')\n",
        "def Function(x, n):\n",
        "  return ((-1)**n)*sym.exp(x**2)*(sym.diff(sym.exp(-x**2),x,n))"
      ],
      "metadata": {
        "id": "VlP9_Lbl7-KC"
      },
      "execution_count": 2,
      "outputs": []
    },
    {
      "cell_type": "code",
      "source": [
        "def GetNewtonRaphson(f,df,xn,n,itmax = 100, precision=1e-5):\n",
        "\n",
        "    error = 1\n",
        "    it = 0\n",
        "\n",
        "    while error > precision and it <= itmax:\n",
        "\n",
        "        try:\n",
        "\n",
        "            xn1 = xn - f(xn)/df(xn)\n",
        "\n",
        "            error = np.abs(f(xn)/df(xn))\n",
        "\n",
        "            #print(error)\n",
        "\n",
        "        except ZeroDivisionError:\n",
        "\n",
        "            print('Division por cero')\n",
        "\n",
        "        it += 1\n",
        "        xn = xn1\n",
        "\n",
        "    if it == itmax:\n",
        "        False\n",
        "    else:\n",
        "        return xn"
      ],
      "metadata": {
        "id": "ryVhaS5y7-Nj"
      },
      "execution_count": 3,
      "outputs": []
    },
    {
      "cell_type": "code",
      "source": [
        "def GetAllRoots(x, x_n,f,tolerancia=8):\n",
        "\n",
        "    Roots = np.array([])\n",
        "    function = sym.lambdify([x],f)\n",
        "    dfunc = sym.diff(f,x,1)\n",
        "    derivative = sym.lambdify([x],dfunc)\n",
        "\n",
        "    for i in x_n:\n",
        "\n",
        "        root = GetNewtonRaphson(function,derivative,n,i)\n",
        "\n",
        "        if root != False:\n",
        "\n",
        "            croot = np.round(root, tolerancia)\n",
        "\n",
        "            if croot not in Roots:\n",
        "                Roots = np.append(Roots,croot)\n",
        "\n",
        "    Roots.sort()\n",
        "\n",
        "    return Roots"
      ],
      "metadata": {
        "id": "oaII4elY7-Rs"
      },
      "execution_count": 4,
      "outputs": []
    },
    {
      "cell_type": "code",
      "source": [
        "def pesos(f,n,x):\n",
        "  H=Function(x, n-1)\n",
        "  peso=((2**(n-1))*(np.math.factorial(n))*((np.pi)**(1/2)))/(n**2 *H*(x**2))\n",
        "  return peso"
      ],
      "metadata": {
        "id": "vFBXgcug7-UZ"
      },
      "execution_count": 5,
      "outputs": []
    },
    {
      "cell_type": "code",
      "source": [
        "numeros = np.arange(1, 21, 1)\n",
        "ceros=[]\n",
        "W=[]"
      ],
      "metadata": {
        "id": "wJiM6xU77-X0"
      },
      "execution_count": 6,
      "outputs": []
    },
    {
      "cell_type": "code",
      "source": [
        "for n in numeros:\n",
        "  n=int(n)\n",
        "  x=sym.Symbol('x')\n",
        "  x_n= np.linspace(-1,1,100)\n",
        "  y = Function(x, n)\n",
        "  Roots = GetAllRoots(x, x_n,y)\n",
        "  ceros.append(Roots)\n",
        "  p=pesos(y,n,x)\n",
        "  W.append(p)\n",
        "print(ceros)\n",
        "print(pesos)"
      ],
      "metadata": {
        "colab": {
          "base_uri": "https://localhost:8080/"
        },
        "id": "fRfoke1x8XG9",
        "outputId": "8ae77c36-3eb8-4f5f-96d7-80fea3997b79"
      },
      "execution_count": 7,
      "outputs": [
        {
          "output_type": "stream",
          "name": "stdout",
          "text": [
            "[array([], dtype=float64), array([0.70710678]), array([1.22474487]), array([1.65068012]), array([2.02018287]), array([2.35060497]), array([2.65196136]), array([2.93063742]), array([3.1909932]), array([3.43615912]), array([3.66847085]), array([3.8897249]), array([4.1013376]), array([4.30444857]), array([4.49999071]), array([4.68873894]), array([4.87134519]), array([5.04836401]), array([5.22027169]), array([5.38748089])]\n",
            "<function pesos at 0x7f785b5e2a70>\n"
          ]
        }
      ]
    },
    {
      "cell_type": "markdown",
      "source": [
        "b)"
      ],
      "metadata": {
        "id": "qxsL0Qt58hYS"
      }
    },
    {
      "cell_type": "code",
      "source": [
        "x=np.linspace(-1,1,100)"
      ],
      "metadata": {
        "id": "Pk0TFcH08XJe"
      },
      "execution_count": 8,
      "outputs": []
    },
    {
      "cell_type": "code",
      "source": [
        "def formula(x,n=1):\n",
        "  return 1/(2**n *(np.sqrt(np.math.factorial(n))))*((1/(np.pi))**1/4)*(np.exp((-x**2)/2))*(2*x)"
      ],
      "metadata": {
        "id": "zB6cXDSl8XMY"
      },
      "execution_count": 10,
      "outputs": []
    },
    {
      "cell_type": "code",
      "source": [
        "def funcion_integral(x):\n",
        "  f=formula(x)\n",
        "  return ((np.abs(f))**2)*(x**2)"
      ],
      "metadata": {
        "id": "_3MYgouL8XPw"
      },
      "execution_count": 11,
      "outputs": []
    },
    {
      "cell_type": "code",
      "source": [
        "x_ini=-(np.inf)\n",
        "x_fin=np.inf\n",
        "integral=integrate.quad(funcion_integral,x_ini,x_fin)"
      ],
      "metadata": {
        "id": "-T8SilQ-8oxS"
      },
      "execution_count": 12,
      "outputs": []
    }
  ]
}