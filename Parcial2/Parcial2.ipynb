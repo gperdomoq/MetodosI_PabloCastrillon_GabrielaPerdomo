{
  "nbformat": 4,
  "nbformat_minor": 0,
  "metadata": {
    "colab": {
      "provenance": []
    },
    "kernelspec": {
      "name": "python3",
      "display_name": "Python 3"
    },
    "language_info": {
      "name": "python"
    }
  },
  "cells": [
    {
      "cell_type": "code",
      "source": [
        "import numpy as np\n",
        "import sympy as sym"
      ],
      "metadata": {
        "id": "-9c0aPVcAvEe"
      },
      "execution_count": 3,
      "outputs": []
    },
    {
      "cell_type": "markdown",
      "source": [
        "a)"
      ],
      "metadata": {
        "id": "1ZcW61jLQi7L"
      }
    },
    {
      "cell_type": "code",
      "source": [
        "def f(x):\n",
        "  return ((x)**3)/((np.exp(x))-1)\n",
        "\n",
        "a = 6.23618*(10**(-9))\n",
        "b = 2.49445*(10**(-8))\n",
        "\n",
        "n = 20\n",
        "\n",
        "x = np.linspace(a, b, n)\n",
        "\n",
        "w = np.ones(n) * (b - a) / n\n",
        "\n",
        "integral_numerador = np.sum(w * f(x))\n",
        "\n",
        "print(integral_numerador)"
      ],
      "metadata": {
        "colab": {
          "base_uri": "https://localhost:8080/"
        },
        "id": "alFmXC9RMp4H",
        "outputId": "5ee405b8-d4bf-43ce-ae24-92f15c811e65"
      },
      "execution_count": 20,
      "outputs": [
        {
          "output_type": "stream",
          "name": "stdout",
          "text": [
            "5.1503192063552985e-24\n"
          ]
        }
      ]
    },
    {
      "cell_type": "markdown",
      "source": [
        "b)"
      ],
      "metadata": {
        "id": "jKoV0TB6Ql5Z"
      }
    },
    {
      "cell_type": "code",
      "source": [
        "a = 0.0001\n",
        "b = 100000000000000000000000000000000000000\n",
        "\n",
        "x = np.linspace(a, b, n)\n",
        "\n",
        "wd = np.ones(n) * (b - a) / n\n",
        "\n",
        "integral_denominador = np.sum(wd * f(x))\n",
        "\n",
        "print(integral_denominador)"
      ],
      "metadata": {
        "colab": {
          "base_uri": "https://localhost:8080/"
        },
        "id": "59VCXqQ2N3ey",
        "outputId": "9b0bd271-c1b8-46ee-8f92-45984c452926"
      },
      "execution_count": 32,
      "outputs": [
        {
          "output_type": "stream",
          "name": "stdout",
          "text": [
            "4.999750004164504e+28\n"
          ]
        },
        {
          "output_type": "stream",
          "name": "stderr",
          "text": [
            "<ipython-input-20-2722a99e4b1b>:2: RuntimeWarning: overflow encountered in exp\n",
            "  return ((x)**3)/((np.exp(x))-1)\n"
          ]
        }
      ]
    },
    {
      "cell_type": "markdown",
      "source": [
        "c)"
      ],
      "metadata": {
        "id": "o0XoNgYdQn7a"
      }
    },
    {
      "cell_type": "markdown",
      "source": [
        "d)"
      ],
      "metadata": {
        "id": "P2cwsbubQpy2"
      }
    },
    {
      "cell_type": "code",
      "source": [
        "a = 7\n",
        "b = 25\n",
        "\n",
        "x = np.linspace(a, b, n)\n",
        "\n",
        "fraction = integral / (8 * np.pi**5 * ()**4 / (15 * c**3 * h**3))\n",
        "\n",
        "print(fraction)"
      ],
      "metadata": {
        "colab": {
          "base_uri": "https://localhost:8080/",
          "height": 245
        },
        "id": "VjRCrMpATq5R",
        "outputId": "a98a12cd-590e-47e5-e6cd-d943a7050944"
      },
      "execution_count": 34,
      "outputs": [
        {
          "output_type": "error",
          "ename": "NameError",
          "evalue": "ignored",
          "traceback": [
            "\u001b[0;31m---------------------------------------------------------------------------\u001b[0m",
            "\u001b[0;31mNameError\u001b[0m                                 Traceback (most recent call last)",
            "\u001b[0;32m<ipython-input-34-d59a73413e04>\u001b[0m in \u001b[0;36m<cell line: 6>\u001b[0;34m()\u001b[0m\n\u001b[1;32m      4\u001b[0m \u001b[0mx\u001b[0m \u001b[0;34m=\u001b[0m \u001b[0mnp\u001b[0m\u001b[0;34m.\u001b[0m\u001b[0mlinspace\u001b[0m\u001b[0;34m(\u001b[0m\u001b[0ma\u001b[0m\u001b[0;34m,\u001b[0m \u001b[0mb\u001b[0m\u001b[0;34m,\u001b[0m \u001b[0mn\u001b[0m\u001b[0;34m)\u001b[0m\u001b[0;34m\u001b[0m\u001b[0;34m\u001b[0m\u001b[0m\n\u001b[1;32m      5\u001b[0m \u001b[0;34m\u001b[0m\u001b[0m\n\u001b[0;32m----> 6\u001b[0;31m \u001b[0mfraction\u001b[0m \u001b[0;34m=\u001b[0m \u001b[0mintegral\u001b[0m \u001b[0;34m/\u001b[0m \u001b[0;34m(\u001b[0m\u001b[0;36m8\u001b[0m \u001b[0;34m*\u001b[0m \u001b[0mnp\u001b[0m\u001b[0;34m.\u001b[0m\u001b[0mpi\u001b[0m\u001b[0;34m**\u001b[0m\u001b[0;36m5\u001b[0m \u001b[0;34m*\u001b[0m \u001b[0;34m(\u001b[0m\u001b[0mkBT\u001b[0m\u001b[0;34m)\u001b[0m\u001b[0;34m**\u001b[0m\u001b[0;36m4\u001b[0m \u001b[0;34m/\u001b[0m \u001b[0;34m(\u001b[0m\u001b[0;36m15\u001b[0m \u001b[0;34m*\u001b[0m \u001b[0mc\u001b[0m\u001b[0;34m**\u001b[0m\u001b[0;36m3\u001b[0m \u001b[0;34m*\u001b[0m \u001b[0mh\u001b[0m\u001b[0;34m**\u001b[0m\u001b[0;36m3\u001b[0m\u001b[0;34m)\u001b[0m\u001b[0;34m)\u001b[0m\u001b[0;34m\u001b[0m\u001b[0;34m\u001b[0m\u001b[0m\n\u001b[0m\u001b[1;32m      7\u001b[0m \u001b[0;34m\u001b[0m\u001b[0m\n\u001b[1;32m      8\u001b[0m \u001b[0mprint\u001b[0m\u001b[0;34m(\u001b[0m\u001b[0mfraction\u001b[0m\u001b[0;34m)\u001b[0m\u001b[0;34m\u001b[0m\u001b[0;34m\u001b[0m\u001b[0m\n",
            "\u001b[0;31mNameError\u001b[0m: name 'kBT' is not defined"
          ]
        }
      ]
    },
    {
      "cell_type": "markdown",
      "source": [
        "e) Esto se debe a que existe un error que es un factor de h. Además de esto, los gases de la atmosfera absorben la radiación electromanectica y eso hace que disminuya en Bogotá."
      ],
      "metadata": {
        "id": "EJlwJgigQyke"
      }
    },
    {
      "cell_type": "markdown",
      "source": [
        "Posible Proceso a"
      ],
      "metadata": {
        "id": "c9ih9d6fTGFV"
      }
    },
    {
      "cell_type": "code",
      "execution_count": 28,
      "metadata": {
        "colab": {
          "base_uri": "https://localhost:8080/"
        },
        "id": "TmG4IQSZwFBD",
        "outputId": "4e16a0ea-13e3-42ae-cfdd-cad5536756d0"
      },
      "outputs": [
        {
          "output_type": "stream",
          "name": "stdout",
          "text": [
            "[7.77798818e-17 1.04280727e-16 1.34659698e-16 1.68916804e-16\n",
            " 2.07052039e-16 2.49065400e-16 2.94956895e-16 3.44726521e-16\n",
            " 3.98374277e-16 4.55900157e-16 5.17304173e-16 5.82586319e-16\n",
            " 6.51746588e-16 7.24784995e-16 8.01701532e-16 8.82496190e-16\n",
            " 9.67168987e-16 1.05571990e-15 1.14814896e-15 1.24445615e-15]\n"
          ]
        }
      ],
      "source": [
        "def Integral(a, b, n):\n",
        "  y = []\n",
        "  x = np.linspace(a,b,n)\n",
        "  funcion = ((x)**3)/((np.exp(x))-1)\n",
        "  factor = (1/2)*(b-a)\n",
        "  sumatoria_pesos=0\n",
        "  for i in x:\n",
        "    y.append(funcion)\n",
        "  for k in range(0,n):\n",
        "    sumatoria_pesos+=(np.polynomial.legendre.leggauss(n)[1][k])*(y[k])\n",
        "  return sumatoria_pesos\n",
        "\n",
        "print(Integral((6.23618*10**(-9)),(2.49445*10**(-8)),20))"
      ]
    },
    {
      "cell_type": "code",
      "source": [
        "Posible Proceso b"
      ],
      "metadata": {
        "id": "UuI-0M8ATKLk"
      },
      "execution_count": null,
      "outputs": []
    },
    {
      "cell_type": "code",
      "source": [
        "def Integralb(b,n):\n",
        "  y = []\n",
        "  x = np.linspace(1,b,n)\n",
        "  funcion = ((x)**3)/((np.exp(x))-1)\n",
        "  factor = (b/2)\n",
        "  sumatoria_pesos=0\n",
        "  for i in x:\n",
        "    y.append(funcion)\n",
        "  for k in range(0,n):\n",
        "    sumatoria_pesos+=(np.polynomial.legendre.leggauss(n)[1][k])*(y[k])\n",
        "  return sumatoria_pesos\n",
        "print(Integralb(10000000000,20))"
      ],
      "metadata": {
        "colab": {
          "base_uri": "https://localhost:8080/"
        },
        "id": "pZN6X8QyMv3Y",
        "outputId": "866bea66-f64d-4619-d0a6-0035be4bb5dc"
      },
      "execution_count": 26,
      "outputs": [
        {
          "output_type": "stream",
          "name": "stdout",
          "text": [
            "[1.16395341 0.         0.         0.         0.         0.\n",
            " 0.         0.         0.         0.         0.         0.\n",
            " 0.         0.         0.         0.         0.         0.\n",
            " 0.         0.        ]\n"
          ]
        },
        {
          "output_type": "stream",
          "name": "stderr",
          "text": [
            "<ipython-input-26-aa9d29266afe>:4: RuntimeWarning: overflow encountered in exp\n",
            "  funcion = ((x)**3)/((np.exp(x))-1)\n"
          ]
        }
      ]
    }
  ]
}