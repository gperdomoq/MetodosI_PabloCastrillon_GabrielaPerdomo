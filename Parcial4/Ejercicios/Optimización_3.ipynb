{
  "nbformat": 4,
  "nbformat_minor": 0,
  "metadata": {
    "colab": {
      "provenance": []
    },
    "kernelspec": {
      "name": "python3",
      "display_name": "Python 3"
    },
    "language_info": {
      "name": "python"
    }
  },
  "cells": [
    {
      "cell_type": "code",
      "source": [
        "import matplotlib.pyplot as plt\n",
        "import numpy as np\n",
        "from numpy.linalg import inv"
      ],
      "metadata": {
        "id": "lJ3s7Owsb8jz"
      },
      "execution_count": 4,
      "outputs": []
    },
    {
      "cell_type": "code",
      "source": [
        "def Vol(x,y,z):\n",
        "    return x*y*z\n",
        "\n",
        "x = np.linspace(0.5,12,200)\n",
        "y = np.linspace(0.5,12,200)\n",
        "z = np.linspace(0.5,12,200)\n",
        "datos=[]\n",
        "for i in x:\n",
        "  for j in y:\n",
        "    for k in z:\n",
        "      if round(((i*j)+(2*j*k)+(2*i*k)),0)==12:\n",
        "        datos.append((i,j,k))\n",
        "print(datos)\n",
        "\n",
        "x=[]\n",
        "y=[]\n",
        "z=[]\n",
        "for i in datos:\n",
        "  x.append(i[0])\n",
        "  y.append(i[1])\n",
        "  z.append(i[2])\n",
        "\n",
        "x0 = 5.\n",
        "result = spo.minimize( f, x0 )\n",
        "print(result)"
      ],
      "metadata": {
        "id": "vxyWJHpOaZZv"
      },
      "execution_count": null,
      "outputs": []
    }
  ]
}